{
 "cells": [
  {
   "cell_type": "markdown",
   "metadata": {},
   "source": [
    "## Final Project for Python Baiscs\n",
    "\n",
    "In this project we were asked to create a wide range of functions that manipulate our data sets\n",
    "* Create a function that reads in a csv file, splits it on '\\n', and apends each line to the returned list\n",
    "* Create a function that sums the births for each month across the whole data set and returns result as a dict\n",
    "* Create a function that sums the births for each day of the week across the data set and returns the result as a dict\n",
    "* Create a function that accepts an int as argment and sums the births across data set based on the column given and returns the      result as a dict\n",
    "* Create a function that finds the min and max values from a given dictionary and returns the values and their key\n",
    "* Create a function that accepts arguments to specify a range of values to evaluate trands in birth rates\n",
    "* Find a way to merge two data sets with over lapping entries"
   ]
  },
  {
   "cell_type": "code",
   "execution_count": 28,
   "metadata": {
    "collapsed": true
   },
   "outputs": [],
   "source": [
    "data = open('US_births_1994-2003_CDC_NCHS.csv', 'r').read()\n",
    "data = data.split('\\n')\n",
    "\n",
    "# write function for reading and formatting csv files\n",
    "def csv_read(file):\n",
    "    data = open(file, 'r').read()\n",
    "    data = data.split('\\n')\n",
    "    string_list = data[1:]\n",
    "    final_list = []\n",
    "    \n",
    "    for ele in string_list:\n",
    "        int_fields = []\n",
    "        string_fields = ele.split(',')\n",
    "        \n",
    "        for i in string_fields:\n",
    "            int_fields.append(int(i))\n",
    "            \n",
    "        final_list.append(int_fields)\n",
    "        \n",
    "    return final_list\n",
    "\n",
    "# calc total births by month\n",
    "def month_births(list_of_lists):\n",
    "    births_per_month = {}\n",
    "    \n",
    "    for ele in list_of_lists:\n",
    "        if ele[1] in births_per_month:\n",
    "            births_per_month[ele[1]] += ele[4]\n",
    "        else:\n",
    "            births_per_month[ele[1]] = ele [4]\n",
    "            \n",
    "    return births_per_month\n",
    "\n",
    "# calc total births by day of week\n",
    "def dow_births(list_of_lists):\n",
    "    births_day_of_week = {}\n",
    "    \n",
    "    for ele in list_of_lists:\n",
    "        if ele[3] in births_day_of_week:\n",
    "            births_day_of_week[ele[3]] += ele[4]\n",
    "        else:\n",
    "            births_day_of_week[ele[3]] = ele [4]\n",
    "            \n",
    "    return births_day_of_week\n",
    "\n",
    "# calc total births for any colum\n",
    "def calc_counts(data, column):\n",
    "    total_births = {}\n",
    "    \n",
    "    for ele in data:\n",
    "        if ele[column] in total_births:\n",
    "            total_births[ele[column]] += ele[4]\n",
    "        else:\n",
    "            total_births[ele[column]] = ele[4]\n",
    "            \n",
    "    return total_births\n",
    "\n",
    "# return minimum and maximum value from the cdc dictionaries we create\n",
    "def min_max(dictionary):\n",
    "    min_max_dict = {}\n",
    "    \n",
    "    for i in dictionary:\n",
    "        if 'min_key' not in min_max_dict:\n",
    "            min_max_dict['min_key'] = i\n",
    "            min_max_dict['min_val'] = dictionary[i]\n",
    "        elif i < min_max_dict['min_val']:\n",
    "            min_max_dict['min_key'] = i\n",
    "            min_max_dict['min_val'] = dictionary[i]            \n",
    "            \n",
    "        if 'max_key' not in min_max_dict:\n",
    "            min_max_dict['max_key'] = i\n",
    "            min_max_dict['max_val'] = dictionary[i]\n",
    "        elif i > min_max_dict['max_val']:\n",
    "            min_max_dict['max_key'] = i\n",
    "            min_max_dict['max_val'] = dictionary[i]\n",
    "        \n",
    "    return min_max_dict\n",
    "\n",
    "# specify column values and calculate the difference in briths\n",
    "def birth_trends(input_list, year_s = 1993, year_e = 2003, month_s = 1, month_e = 12, dom_s = 1, dom_e = 31, dow_s = 1, dow_e = 7):\n",
    "    new_list = []\n",
    "\n",
    "    for ele in input_list:\n",
    "        if ele[0] >= year_s and ele[0] <= year_e:\n",
    "            if ele[1] >= month_s and ele[1] <= month_e:\n",
    "                if ele[2] >= dom_s and ele[2] <= dom_e:\n",
    "                    if ele[3] >= dow_s and ele[3] <= dow_e:\n",
    "                        new_list.append(ele)\n",
    "\n",
    "    for i, ele in enumerate(new_list):\n",
    "        if i == 0:\n",
    "            ele += [0]\n",
    "        else:\n",
    "            ele += [new_list[i-1][4] - ele[4]]\n",
    "            \n",
    "    return new_list\n",
    "\n",
    "# merge two data sets with overlapping data\n",
    "data1 = csv_read('US_births_1994-2003_CDC_NCHS.csv')\n",
    "data2 = csv_read('US_births_2000-2014_SSA.csv')\n",
    "\n",
    "merged_data = data1\n",
    "\n",
    "for ele in data2:\n",
    "    if data2 not in merged_data:\n",
    "        merged_data.append(ele)"
   ]
  },
  {
   "cell_type": "code",
   "execution_count": 29,
   "metadata": {},
   "outputs": [
    {
     "data": {
      "text/plain": [
       "['year,month,date_of_month,day_of_week,births',\n",
       " '1994,1,1,6,8096',\n",
       " '1994,1,2,7,7772',\n",
       " '1994,1,3,1,10142',\n",
       " '1994,1,4,2,11248',\n",
       " '1994,1,5,3,11053',\n",
       " '1994,1,6,4,11406',\n",
       " '1994,1,7,5,11251',\n",
       " '1994,1,8,6,8653',\n",
       " '1994,1,9,7,7910']"
      ]
     },
     "execution_count": 29,
     "metadata": {},
     "output_type": "execute_result"
    }
   ],
   "source": [
    "# display first 10 elements in list from open() and split ()\n",
    "data[:10]"
   ]
  },
  {
   "cell_type": "code",
   "execution_count": 30,
   "metadata": {},
   "outputs": [
    {
     "data": {
      "text/plain": [
       "[[1994, 1, 1, 6, 8096],\n",
       " [1994, 1, 2, 7, 7772],\n",
       " [1994, 1, 3, 1, 10142],\n",
       " [1994, 1, 4, 2, 11248],\n",
       " [1994, 1, 5, 3, 11053],\n",
       " [1994, 1, 6, 4, 11406],\n",
       " [1994, 1, 7, 5, 11251],\n",
       " [1994, 1, 8, 6, 8653],\n",
       " [1994, 1, 9, 7, 7910],\n",
       " [1994, 1, 10, 1, 10498]]"
      ]
     },
     "execution_count": 30,
     "metadata": {},
     "output_type": "execute_result"
    }
   ],
   "source": [
    "# display first 10 elements in list from csv_read function\n",
    "cdc_list = csv_read('US_births_1994-2003_CDC_NCHS.csv')\n",
    "cdc_list[:10]"
   ]
  },
  {
   "cell_type": "code",
   "execution_count": 32,
   "metadata": {},
   "outputs": [
    {
     "data": {
      "text/plain": [
       "{1: 3232517,\n",
       " 2: 3018140,\n",
       " 3: 3322069,\n",
       " 4: 3185314,\n",
       " 5: 3350907,\n",
       " 6: 3296530,\n",
       " 7: 3498783,\n",
       " 8: 3525858,\n",
       " 9: 3439698,\n",
       " 10: 3378814,\n",
       " 11: 3171647,\n",
       " 12: 3301860}"
      ]
     },
     "execution_count": 32,
     "metadata": {},
     "output_type": "execute_result"
    }
   ],
   "source": [
    "# display dictionary from month_birth function\n",
    "cdc_month_births = month_births(cdc_list)\n",
    "cdc_month_births"
   ]
  },
  {
   "cell_type": "code",
   "execution_count": 33,
   "metadata": {},
   "outputs": [
    {
     "data": {
      "text/plain": [
       "{1: 5789166,\n",
       " 2: 6446196,\n",
       " 3: 6322855,\n",
       " 4: 6288429,\n",
       " 5: 6233657,\n",
       " 6: 4562111,\n",
       " 7: 4079723}"
      ]
     },
     "execution_count": 33,
     "metadata": {},
     "output_type": "execute_result"
    }
   ],
   "source": [
    "# display dictionary from dow_births function\n",
    "cdc_day_births = dow_births(cdc_list)\n",
    "cdc_day_births"
   ]
  },
  {
   "cell_type": "code",
   "execution_count": 34,
   "metadata": {
    "collapsed": true
   },
   "outputs": [],
   "source": [
    "# use calc_counts function to calculate the values for each column\n",
    "cdc_year_births = calc_counts(cdc_list, 0)\n",
    "cdc_month_births = calc_counts(cdc_list, 1)\n",
    "cdc_dom_births = calc_counts(cdc_list, 2)\n",
    "cdc_dow_births = calc_counts(cdc_list, 3)"
   ]
  },
  {
   "cell_type": "code",
   "execution_count": 35,
   "metadata": {},
   "outputs": [
    {
     "data": {
      "text/plain": [
       "{'max_key': 1994, 'max_val': 3952767, 'min_key': 2003, 'min_val': 4089950}"
      ]
     },
     "execution_count": 35,
     "metadata": {},
     "output_type": "execute_result"
    }
   ],
   "source": [
    "# return the minimum and maximum values for a dictionary\n",
    "min_max(cdc_year_births)"
   ]
  },
  {
   "cell_type": "code",
   "execution_count": 37,
   "metadata": {},
   "outputs": [
    {
     "data": {
      "text/plain": [
       "[[2003, 1, 1, 3, 7783, 0, 0],\n",
       " [2003, 1, 2, 4, 10863, -3080, -3080],\n",
       " [2003, 1, 3, 5, 11965, -1102, -1102],\n",
       " [2003, 1, 4, 6, 8374, 3591, 3591],\n",
       " [2003, 1, 5, 7, 7365, 1009, 1009],\n",
       " [2003, 1, 6, 1, 11220, -3855, -3855],\n",
       " [2003, 1, 7, 2, 12398, -1178, -1178],\n",
       " [2003, 1, 8, 3, 11872, 526, 526],\n",
       " [2003, 1, 9, 4, 11828, 44, 44],\n",
       " [2003, 1, 10, 5, 12303, -475, -475]]"
      ]
     },
     "execution_count": 37,
     "metadata": {},
     "output_type": "execute_result"
    }
   ],
   "source": [
    "# display first 10 elements in list returned from birth_trends functions\n",
    "birth_trends(cdc_list, year_s = 2003)[:10]"
   ]
  }
 ],
 "metadata": {
  "kernelspec": {
   "display_name": "Python 3",
   "language": "python",
   "name": "python3"
  },
  "language_info": {
   "codemirror_mode": {
    "name": "ipython",
    "version": 3
   },
   "file_extension": ".py",
   "mimetype": "text/x-python",
   "name": "python",
   "nbconvert_exporter": "python",
   "pygments_lexer": "ipython3",
   "version": "3.6.3"
  }
 },
 "nbformat": 4,
 "nbformat_minor": 2
}
