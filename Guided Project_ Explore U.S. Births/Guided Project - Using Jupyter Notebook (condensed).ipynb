{
 "cells": [
  {
   "cell_type": "markdown",
   "metadata": {
    "collapsed": true
   },
   "source": [
    "## DataQuest's project intro in markdown: Birth Dates In The United States\n",
    "The raw data behind the story **Some People Are Too Superstitious To Have A Baby On Friday The 13th**, which you can read [here](https://fivethirtyeight.com/features/some-people-are-too-superstitious-to-have-a-baby-on-friday-the-13th/).\n",
    "\n",
    "We'll be working with the data set from the Centers for Disease Control and Prevention's National National Center for Health Statistics. The data set has the following structure:\n",
    "\n",
    "* year - Year\n",
    "* month - Month\n",
    "* date_of_month - Day number of the month\n",
    "* day_of_week - Day of week, where 1 is Monday and 7 is Sunday\n",
    "* births - Number of births"
   ]
  },
  {
   "cell_type": "code",
   "execution_count": 1,
   "metadata": {},
   "outputs": [
    {
     "data": {
      "text/plain": [
       "{'1': 15105167,\n",
       " '2': 16721070,\n",
       " '3': 16431985,\n",
       " '4': 16333865,\n",
       " '5': 16083856,\n",
       " '6': 11266606,\n",
       " '7': 9966612}"
      ]
     },
     "execution_count": 1,
     "metadata": {},
     "output_type": "execute_result"
    }
   ],
   "source": [
    "#read csv files\n",
    "csv1 = open('US_births_1994-2003_CDC_NCHS.csv', 'r').read()\n",
    "csv2 = open('US_births_2000-2014_SSA.csv', 'r').read()\n",
    "\n",
    "\n",
    "#split lists\n",
    "csv1_no_newline = csv1.split('\\n')\n",
    "csv2_no_newline = csv2.split('\\n')\n",
    "csv1_no_newline\n",
    "\n",
    "\n",
    "#remove headers and combine lists\n",
    "csv1_no_header = csv1_no_newline[1:]\n",
    "csv2_no_header = csv2_no_newline[1:]\n",
    "csv_combined = csv1_no_header + csv2_no_header\n",
    "\n",
    "#create dictionary to store total births\n",
    "birth_count = dict()\n",
    "\n",
    "#iterate through list, split on \",\" and tally births per day of the week\n",
    "for ele in csv_combined:\n",
    "    ele = ele.split(',')\n",
    "    \n",
    "    if ele[3] in birth_count:\n",
    "        birth_count[ele[3]] += int(ele[4])\n",
    "    else:\n",
    "        birth_count[ele[3]] = int(ele[4])\n",
    "\n",
    "birth_count"
   ]
  }
 ],
 "metadata": {
  "anaconda-cloud": {},
  "kernelspec": {
   "display_name": "Python 3",
   "language": "python",
   "name": "python3"
  },
  "language_info": {
   "codemirror_mode": {
    "name": "ipython",
    "version": 3
   },
   "file_extension": ".py",
   "mimetype": "text/x-python",
   "name": "python",
   "nbconvert_exporter": "python",
   "pygments_lexer": "ipython3",
   "version": "3.6.3"
  }
 },
 "nbformat": 4,
 "nbformat_minor": 1
}
